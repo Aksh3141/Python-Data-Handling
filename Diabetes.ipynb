{
 "cells": [
  {
   "cell_type": "code",
   "execution_count": null,
   "id": "efe339eb",
   "metadata": {},
   "outputs": [],
   "source": [
    "'''\n",
    "\n",
    "INTRODUCTION:\n",
    "\n",
    "The data frame on diabetes includes age, gender, blood glucose level, and BMI, which can be useful for research on diabetes prevalence \n",
    "and risk factors, aiding in diagnosis and treatment planning, and assessing individual risk profiles for preventive measures.\n",
    "Additionally, the data frame can contribute to the development of targeted interventions and strategies to combat the growing burden of \n",
    "diabetes on public health.\n",
    "\n",
    "OBJECTIVE:\n",
    "\n",
    "The primary objective is to study the relationship of Diabetes with various different factors and analyze if they have\n",
    "a positive, negative or neutral impact on Diabetic patients. Some of the factors include:\n",
    "1. Age\n",
    "2. BMI\n",
    "3. Gender\n",
    "4. Blood Glucose level\n",
    "5. Heart diseases\n",
    "6. HbA1c level\n",
    "7. Smoking history \n",
    "\n",
    "DATA SET USED:\n",
    "\n",
    "diabetes_prediction_dataset.csv\n",
    "\n",
    "SOURCE :- Kaggle\n",
    "link :- https://www.kaggle.com/datasets/iammustafatz/diabetes-prediction-dataset\n",
    "\n",
    "'''"
   ]
  },
  {
   "cell_type": "code",
   "execution_count": 1,
   "id": "3901100b",
   "metadata": {},
   "outputs": [
    {
     "name": "stdout",
     "output_type": "stream",
     "text": [
      "<class 'pandas.core.frame.DataFrame'>\n",
      "RangeIndex: 100000 entries, 0 to 99999\n",
      "Data columns (total 9 columns):\n",
      " #   Column               Non-Null Count   Dtype  \n",
      "---  ------               --------------   -----  \n",
      " 0   gender               100000 non-null  object \n",
      " 1   age                  100000 non-null  float64\n",
      " 2   hypertension         100000 non-null  int64  \n",
      " 3   heart_disease        100000 non-null  int64  \n",
      " 4   smoking_history      100000 non-null  object \n",
      " 5   bmi                  100000 non-null  float64\n",
      " 6   HbA1c_level          100000 non-null  float64\n",
      " 7   blood_glucose_level  100000 non-null  int64  \n",
      " 8   diabetes             100000 non-null  int64  \n",
      "dtypes: float64(3), int64(4), object(2)\n",
      "memory usage: 6.9+ MB\n",
      "None\n"
     ]
    }
   ],
   "source": [
    "import numpy as np\n",
    "import pandas as pd\n",
    "import matplotlib.pyplot as plt\n",
    "from scipy import stats\n",
    "df = pd.read_csv(\"diabetes_prediction_dataset.csv\")\n",
    "print(df.info())"
   ]
  },
  {
   "cell_type": "code",
   "execution_count": 2,
   "id": "5593f18f",
   "metadata": {},
   "outputs": [
    {
     "data": {
      "text/html": [
       "<div>\n",
       "<style scoped>\n",
       "    .dataframe tbody tr th:only-of-type {\n",
       "        vertical-align: middle;\n",
       "    }\n",
       "\n",
       "    .dataframe tbody tr th {\n",
       "        vertical-align: top;\n",
       "    }\n",
       "\n",
       "    .dataframe thead th {\n",
       "        text-align: right;\n",
       "    }\n",
       "</style>\n",
       "<table border=\"1\" class=\"dataframe\">\n",
       "  <thead>\n",
       "    <tr style=\"text-align: right;\">\n",
       "      <th></th>\n",
       "      <th>gender</th>\n",
       "      <th>age</th>\n",
       "      <th>hypertension</th>\n",
       "      <th>heart_disease</th>\n",
       "      <th>smoking_history</th>\n",
       "      <th>bmi</th>\n",
       "      <th>HbA1c_level</th>\n",
       "      <th>blood_glucose_level</th>\n",
       "      <th>diabetes</th>\n",
       "    </tr>\n",
       "  </thead>\n",
       "  <tbody>\n",
       "    <tr>\n",
       "      <th>0</th>\n",
       "      <td>Female</td>\n",
       "      <td>80.0</td>\n",
       "      <td>0</td>\n",
       "      <td>1</td>\n",
       "      <td>never</td>\n",
       "      <td>25.19</td>\n",
       "      <td>6.6</td>\n",
       "      <td>140</td>\n",
       "      <td>0</td>\n",
       "    </tr>\n",
       "    <tr>\n",
       "      <th>1</th>\n",
       "      <td>Female</td>\n",
       "      <td>54.0</td>\n",
       "      <td>0</td>\n",
       "      <td>0</td>\n",
       "      <td>No Info</td>\n",
       "      <td>27.32</td>\n",
       "      <td>6.6</td>\n",
       "      <td>80</td>\n",
       "      <td>0</td>\n",
       "    </tr>\n",
       "    <tr>\n",
       "      <th>2</th>\n",
       "      <td>Male</td>\n",
       "      <td>28.0</td>\n",
       "      <td>0</td>\n",
       "      <td>0</td>\n",
       "      <td>never</td>\n",
       "      <td>27.32</td>\n",
       "      <td>5.7</td>\n",
       "      <td>158</td>\n",
       "      <td>0</td>\n",
       "    </tr>\n",
       "    <tr>\n",
       "      <th>3</th>\n",
       "      <td>Female</td>\n",
       "      <td>36.0</td>\n",
       "      <td>0</td>\n",
       "      <td>0</td>\n",
       "      <td>current</td>\n",
       "      <td>23.45</td>\n",
       "      <td>5.0</td>\n",
       "      <td>155</td>\n",
       "      <td>0</td>\n",
       "    </tr>\n",
       "    <tr>\n",
       "      <th>4</th>\n",
       "      <td>Male</td>\n",
       "      <td>76.0</td>\n",
       "      <td>1</td>\n",
       "      <td>1</td>\n",
       "      <td>current</td>\n",
       "      <td>20.14</td>\n",
       "      <td>4.8</td>\n",
       "      <td>155</td>\n",
       "      <td>0</td>\n",
       "    </tr>\n",
       "  </tbody>\n",
       "</table>\n",
       "</div>"
      ],
      "text/plain": [
       "   gender   age  hypertension  heart_disease smoking_history    bmi  \\\n",
       "0  Female  80.0             0              1           never  25.19   \n",
       "1  Female  54.0             0              0         No Info  27.32   \n",
       "2    Male  28.0             0              0           never  27.32   \n",
       "3  Female  36.0             0              0         current  23.45   \n",
       "4    Male  76.0             1              1         current  20.14   \n",
       "\n",
       "   HbA1c_level  blood_glucose_level  diabetes  \n",
       "0          6.6                  140         0  \n",
       "1          6.6                   80         0  \n",
       "2          5.7                  158         0  \n",
       "3          5.0                  155         0  \n",
       "4          4.8                  155         0  "
      ]
     },
     "execution_count": 2,
     "metadata": {},
     "output_type": "execute_result"
    }
   ],
   "source": [
    "df.head()"
   ]
  },
  {
   "cell_type": "code",
   "execution_count": 3,
   "id": "c820863f",
   "metadata": {
    "scrolled": false
   },
   "outputs": [
    {
     "data": {
      "text/html": [
       "<div>\n",
       "<style scoped>\n",
       "    .dataframe tbody tr th:only-of-type {\n",
       "        vertical-align: middle;\n",
       "    }\n",
       "\n",
       "    .dataframe tbody tr th {\n",
       "        vertical-align: top;\n",
       "    }\n",
       "\n",
       "    .dataframe thead th {\n",
       "        text-align: right;\n",
       "    }\n",
       "</style>\n",
       "<table border=\"1\" class=\"dataframe\">\n",
       "  <thead>\n",
       "    <tr style=\"text-align: right;\">\n",
       "      <th></th>\n",
       "      <th>age</th>\n",
       "      <th>hypertension</th>\n",
       "      <th>heart_disease</th>\n",
       "      <th>bmi</th>\n",
       "      <th>HbA1c_level</th>\n",
       "      <th>blood_glucose_level</th>\n",
       "      <th>diabetes</th>\n",
       "    </tr>\n",
       "  </thead>\n",
       "  <tbody>\n",
       "    <tr>\n",
       "      <th>count</th>\n",
       "      <td>100000.000000</td>\n",
       "      <td>100000.00000</td>\n",
       "      <td>100000.000000</td>\n",
       "      <td>100000.000000</td>\n",
       "      <td>100000.000000</td>\n",
       "      <td>100000.000000</td>\n",
       "      <td>100000.000000</td>\n",
       "    </tr>\n",
       "    <tr>\n",
       "      <th>mean</th>\n",
       "      <td>41.885856</td>\n",
       "      <td>0.07485</td>\n",
       "      <td>0.039420</td>\n",
       "      <td>27.320767</td>\n",
       "      <td>5.527507</td>\n",
       "      <td>138.058060</td>\n",
       "      <td>0.085000</td>\n",
       "    </tr>\n",
       "    <tr>\n",
       "      <th>std</th>\n",
       "      <td>22.516840</td>\n",
       "      <td>0.26315</td>\n",
       "      <td>0.194593</td>\n",
       "      <td>6.636783</td>\n",
       "      <td>1.070672</td>\n",
       "      <td>40.708136</td>\n",
       "      <td>0.278883</td>\n",
       "    </tr>\n",
       "    <tr>\n",
       "      <th>min</th>\n",
       "      <td>0.080000</td>\n",
       "      <td>0.00000</td>\n",
       "      <td>0.000000</td>\n",
       "      <td>10.010000</td>\n",
       "      <td>3.500000</td>\n",
       "      <td>80.000000</td>\n",
       "      <td>0.000000</td>\n",
       "    </tr>\n",
       "    <tr>\n",
       "      <th>25%</th>\n",
       "      <td>24.000000</td>\n",
       "      <td>0.00000</td>\n",
       "      <td>0.000000</td>\n",
       "      <td>23.630000</td>\n",
       "      <td>4.800000</td>\n",
       "      <td>100.000000</td>\n",
       "      <td>0.000000</td>\n",
       "    </tr>\n",
       "    <tr>\n",
       "      <th>50%</th>\n",
       "      <td>43.000000</td>\n",
       "      <td>0.00000</td>\n",
       "      <td>0.000000</td>\n",
       "      <td>27.320000</td>\n",
       "      <td>5.800000</td>\n",
       "      <td>140.000000</td>\n",
       "      <td>0.000000</td>\n",
       "    </tr>\n",
       "    <tr>\n",
       "      <th>75%</th>\n",
       "      <td>60.000000</td>\n",
       "      <td>0.00000</td>\n",
       "      <td>0.000000</td>\n",
       "      <td>29.580000</td>\n",
       "      <td>6.200000</td>\n",
       "      <td>159.000000</td>\n",
       "      <td>0.000000</td>\n",
       "    </tr>\n",
       "    <tr>\n",
       "      <th>max</th>\n",
       "      <td>80.000000</td>\n",
       "      <td>1.00000</td>\n",
       "      <td>1.000000</td>\n",
       "      <td>95.690000</td>\n",
       "      <td>9.000000</td>\n",
       "      <td>300.000000</td>\n",
       "      <td>1.000000</td>\n",
       "    </tr>\n",
       "  </tbody>\n",
       "</table>\n",
       "</div>"
      ],
      "text/plain": [
       "                 age  hypertension  heart_disease            bmi  \\\n",
       "count  100000.000000  100000.00000  100000.000000  100000.000000   \n",
       "mean       41.885856       0.07485       0.039420      27.320767   \n",
       "std        22.516840       0.26315       0.194593       6.636783   \n",
       "min         0.080000       0.00000       0.000000      10.010000   \n",
       "25%        24.000000       0.00000       0.000000      23.630000   \n",
       "50%        43.000000       0.00000       0.000000      27.320000   \n",
       "75%        60.000000       0.00000       0.000000      29.580000   \n",
       "max        80.000000       1.00000       1.000000      95.690000   \n",
       "\n",
       "         HbA1c_level  blood_glucose_level       diabetes  \n",
       "count  100000.000000        100000.000000  100000.000000  \n",
       "mean        5.527507           138.058060       0.085000  \n",
       "std         1.070672            40.708136       0.278883  \n",
       "min         3.500000            80.000000       0.000000  \n",
       "25%         4.800000           100.000000       0.000000  \n",
       "50%         5.800000           140.000000       0.000000  \n",
       "75%         6.200000           159.000000       0.000000  \n",
       "max         9.000000           300.000000       1.000000  "
      ]
     },
     "execution_count": 3,
     "metadata": {},
     "output_type": "execute_result"
    }
   ],
   "source": [
    "df.describe()"
   ]
  },
  {
   "cell_type": "code",
   "execution_count": 4,
   "id": "17b80856",
   "metadata": {},
   "outputs": [
    {
     "name": "stdout",
     "output_type": "stream",
     "text": [
      "The percentage of Diabetic people in the sample are:  8.5 %\n"
     ]
    }
   ],
   "source": [
    "# 1st Querie \n",
    "# Finding the percentage of Diabetic people in the Sample\n",
    "a=df['diabetes'].value_counts()[1]\n",
    "print(\"The percentage of Diabetic people in the sample are: \", (a/100000)*100, \"%\")"
   ]
  },
  {
   "cell_type": "code",
   "execution_count": 5,
   "id": "25198c21",
   "metadata": {},
   "outputs": [
    {
     "name": "stdout",
     "output_type": "stream",
     "text": [
      "Percentage of diabetic males in the sample:  9.75 %\n",
      "Percentage of diabetic females in the sample:  7.62 %\n"
     ]
    }
   ],
   "source": [
    "# 2nd Querie\n",
    "# Finding the percentage of male and female Diabetic people diabetic\n",
    "total_males=df['gender'].value_counts()['Male']\n",
    "total_females=df['gender'].value_counts()['Female']\n",
    "diabetic_males=len(df[(df['gender'] == 'Male') & (df['diabetes'] == 1)])\n",
    "diabetic_females=len(df[(df['gender'] == 'Female') & (df['diabetes'] == 1)])\n",
    "print(\"Percentage of diabetic males in the sample: \", round((diabetic_males/total_males)*100,2),\"%\")\n",
    "print(\"Percentage of diabetic females in the sample: \", round((diabetic_females/total_females)*100,2),\"%\")"
   ]
  },
  {
   "cell_type": "code",
   "execution_count": 6,
   "id": "9350957e",
   "metadata": {},
   "outputs": [
    {
     "data": {
      "image/png": "[encoded data removed]",
      "text/plain": [
       "<Figure size 432x288 with 1 Axes>"
      ]
     },
     "metadata": {
      "needs_background": "light"
     },
     "output_type": "display_data"
    }
   ],
   "source": [
    "# 3rd Querie\n",
    "# Making a bar chat to find a possible relation between age and Diabetes\n",
    "df['age'] = df['age'].astype(int)\n",
    "diabetic_ages = df[df['diabetes'] == 1]['age']\n",
    "age_intervals = range(df['age'].min(), df['age'].max() + 6, 5)\n",
    "plt.hist(diabetic_ages, bins=age_intervals)\n",
    "plt.xlabel('Age')\n",
    "plt.ylabel('Frequency')\n",
    "plt.title('Histogram of Age')\n",
    "plt.xticks(age_intervals)\n",
    "plt.show()"
   ]
  },
  {
   "cell_type": "code",
   "execution_count": 7,
   "id": "6e3780ab",
   "metadata": {},
   "outputs": [
    {
     "data": {
      "image/png": "[encoded data removed]",
      "text/plain": [
       "<Figure size 1152x360 with 2 Axes>"
      ]
     },
     "metadata": {
      "needs_background": "light"
     },
     "output_type": "display_data"
    }
   ],
   "source": [
    "# 4th Querie\n",
    "# Making different plots for makes and females to find if there is any difference in males and female\n",
    "# diabetic patients according to age\n",
    "df['age'] = df['age'].astype(int)\n",
    "diabetic_ages_male = df[(df['diabetes'] == 1) & (df['gender']=='Male')]['age']\n",
    "age_intervals = range(df['age'].min(), df['age'].max() + 6, 5)\n",
    "fig, axs = plt.subplots(1, 2, figsize=(16, 5))\n",
    "axs[0].hist(diabetic_ages_male, bins=age_intervals)\n",
    "axs[0].set_xlabel('Age')\n",
    "axs[0].set_ylabel('Frequency')\n",
    "axs[0].set_title('Males with Diabetes')\n",
    "axs[0].set_xticks(age_intervals)\n",
    "\n",
    "\n",
    "diabetic_ages_female = df[(df['diabetes'] == 1) & (df['gender']=='Female')]['age']\n",
    "axs[1].hist(diabetic_ages_female, bins=age_intervals)\n",
    "axs[1].set_xlabel('Age')\n",
    "axs[1].set_ylabel('Frequency')\n",
    "axs[1].set_title('Females with Diabetes')\n",
    "axs[1].set_xticks(age_intervals)\n",
    "\n",
    "plt.subplots_adjust(wspace=0.4)\n",
    "plt.show()\n"
   ]
  },
  {
   "cell_type": "code",
   "execution_count": 8,
   "id": "42891781",
   "metadata": {},
   "outputs": [
    {
     "data": {
      "image/png": "[encoded data removed]",
      "text/plain": [
       "<Figure size 1152x360 with 2 Axes>"
      ]
     },
     "metadata": {
      "needs_background": "light"
     },
     "output_type": "display_data"
    }
   ],
   "source": [
    "# 5th Querie\n",
    "# Making a bar chat to find a possible relation between BMI and Diabetes\n",
    "fig, axs = plt.subplots(1, 2, figsize=(16, 5))\n",
    "bmi_intervals = range(int(df['bmi'].min()), int(df['bmi'].max()) + 6, 4)\n",
    "axs[0].hist(df['bmi'], bins=20)\n",
    "axs[0].set_xlabel('BMI')\n",
    "axs[0].set_ylabel('Frequency')\n",
    "axs[0].set_title('Histogram of BMI for entire sample')\n",
    "axs[0].set_xticks(bmi_intervals)\n",
    "\n",
    "diabetic_bmi = df[df['diabetes'] == 1]['bmi']\n",
    "plt.hist(diabetic_bmi, bins=20)\n",
    "plt.xlabel('BMI')\n",
    "plt.ylabel('Frequency')`\n",
    "plt.title('Histogram of BMI for Diabetic Individuals')\n",
    "axs[1].set_xticks(bmi_intervals)\n",
    "\n",
    "plt.subplots_adjust(wspace=0.4)\n",
    "plt.show()"
   ]
  },
  {
   "cell_type": "code",
   "execution_count": 9,
   "id": "67cbe551",
   "metadata": {},
   "outputs": [
    {
     "data": {
      "image/png": "[encoded data removed]",
      "text/plain": [
       "<Figure size 1152x576 with 1 Axes>"
      ]
     },
     "metadata": {
      "needs_background": "light"
     },
     "output_type": "display_data"
    }
   ],
   "source": [
    "# 6th Querie\n",
    "# Making a bar chat to find a possible relation between blood glucose level and Diabetes\n",
    "df['blood_glucose_level'] = df['blood_glucose_level'].astype(int)\n",
    "diabetic_bgl = df[df['diabetes'] == 1]['blood_glucose_level']\n",
    "plt.figure(figsize=(16, 8))\n",
    "\n",
    "bgl_intervals = range(df['blood_glucose_level'].min(), df['blood_glucose_level'].max() + 6, 10)\n",
    "plt.hist(diabetic_bgl, bins=20)\n",
    "plt.xlabel('blood sugar level')\n",
    "plt.ylabel('Frequency')\n",
    "plt.title('Histogram of blood glucose level')\n",
    "plt.xticks(bgl_intervals)\n",
    "plt.show()"
   ]
  },
  {
   "cell_type": "code",
   "execution_count": 10,
   "id": "a58a310b",
   "metadata": {},
   "outputs": [
    {
     "data": {
      "image/png": "[encoded data removed]",
      "text/plain": [
       "<Figure size 864x432 with 1 Axes>"
      ]
     },
     "metadata": {
      "needs_background": "light"
     },
     "output_type": "display_data"
    }
   ],
   "source": [
    "# 7th Querie\n",
    "# Making a bar chat to find a possible relation between HbA1c level and Diabetes\n",
    "df['HbA1c_level'] = df['HbA1c_level'].astype(int)\n",
    "diabetic_bgl = df[df['diabetes'] == 1]['HbA1c_level']\n",
    "plt.figure(figsize=(12, 6))\n",
    "\n",
    "hba_intervals = range(int(df['HbA1c_level'].min()), int(df['HbA1c_level'].max()) + 6, 1)\n",
    "plt.hist(diabetic_bgl, 20)\n",
    "plt.xlabel('HbA1c level')\n",
    "plt.ylabel('Frequency')\n",
    "plt.title('Histogram of blood HbA1c level')\n",
    "plt.xticks(hba_intervals)\n",
    "plt.show()"
   ]
  },
  {
   "cell_type": "code",
   "execution_count": 11,
   "id": "dfcfb382",
   "metadata": {},
   "outputs": [
    {
     "name": "stdout",
     "output_type": "stream",
     "text": [
      " CURRENT SMOKERS:  9286\n",
      " NON SMOKERS:  35095\n",
      " FORMER SMOKERS:  9352\n",
      " NO INFO:  35816\n"
     ]
    }
   ],
   "source": [
    "# 8th Querie\n",
    "# Counting number of smokers, non-smokers, former smokers in sample\n",
    "smoker=df['smoking_history'].value_counts()['current']\n",
    "non_smoker=df['smoking_history'].value_counts()['never']\n",
    "former=df['smoking_history'].value_counts()['former']\n",
    "no_info=df['smoking_history'].value_counts()['No Info']\n",
    "\n",
    "print(\" CURRENT SMOKERS: \", smoker)\n",
    "print(\" NON SMOKERS: \", non_smoker)\n",
    "print(\" FORMER SMOKERS: \", former)\n",
    "print(\" NO INFO: \", no_info)"
   ]
  },
  {
   "cell_type": "code",
   "execution_count": 12,
   "id": "31a793df",
   "metadata": {},
   "outputs": [
    {
     "data": {
      "image/png": "[encoded data removed]",
      "text/plain": [
       "<Figure size 432x288 with 1 Axes>"
      ]
     },
     "metadata": {},
     "output_type": "display_data"
    }
   ],
   "source": [
    "# 9th Querie\n",
    "# Making a Pie chart to show shed light on smoking history of population\n",
    "labels = ['Smokers', 'Non-smokers', 'Former', 'No Info']\n",
    "smoker=df['smoking_history'].value_counts()['current']\n",
    "non_smoker=df['smoking_history'].value_counts()['never']\n",
    "former=df['smoking_history'].value_counts()['former']\n",
    "no_info=df['smoking_history'].value_counts()['No Info']\n",
    "sizes = [smoker,non_smoker,former,no_info]\n",
    "plt.pie(sizes, labels=labels, autopct='%1.1f%%', startangle=0)\n",
    "plt.axis('equal')\n",
    "plt.title('Distribution of Smokers and Non-smokers')\n",
    "plt.show()"
   ]
  },
  {
   "cell_type": "code",
   "execution_count": 13,
   "id": "67835b6f",
   "metadata": {},
   "outputs": [
    {
     "name": "stdout",
     "output_type": "stream",
     "text": [
      " CURRENT SMOKERS:  948\n",
      " NON SMOKERS:  3346\n",
      " FORMER SMOKERS:  1590\n",
      " NO INFO:  1454\n"
     ]
    }
   ],
   "source": [
    "# 10th Querie\n",
    "# Counting number of smokers, non-smokers, former smokers in sample who are diabetic\n",
    "diabetic_smoker=len(df[(df['smoking_history'] == 'current') & (df['diabetes'] == 1)])\n",
    "diabetic_non_smoker=len(df[(df['smoking_history'] == 'never') & (df['diabetes'] == 1)])\n",
    "diabetic_former_smoker=len(df[(df['smoking_history'] == 'former') & (df['diabetes'] == 1)])\n",
    "diabetic_no_info=len(df[(df['smoking_history'] == 'No Info') & (df['diabetes'] == 1)])\n",
    "\n",
    "print(\" CURRENT SMOKERS: \", diabetic_smoker)\n",
    "print(\" NON SMOKERS: \", diabetic_non_smoker)\n",
    "print(\" FORMER SMOKERS: \", diabetic_former_smoker)\n",
    "print(\" NO INFO: \", diabetic_no_info)"
   ]
  },
  {
   "cell_type": "code",
   "execution_count": 14,
   "id": "583c615b",
   "metadata": {},
   "outputs": [
    {
     "name": "stdout",
     "output_type": "stream",
     "text": [
      "Percentage of diabetic smokers in Sample:  10.21 %\n",
      "Percentage of diabetic non smokers in Sample:  9.53 %\n",
      "Percentage of diabetic former smoker in Sample:  17.0 %\n"
     ]
    }
   ],
   "source": [
    "# 11th querie\n",
    "# Finding percentage of people who are diabetic and are current, former and non smoker\n",
    "\n",
    "print(\"Percentage of diabetic smokers in Sample: \", round(diabetic_smoker*100/smoker,2),\"%\")\n",
    "print(\"Percentage of diabetic non smokers in Sample: \", round(diabetic_non_smoker*100/non_smoker,2),\"%\")\n",
    "print(\"Percentage of diabetic former smoker in Sample: \", round(diabetic_former_smoker*100/former,2),\"%\")"
   ]
  },
  {
   "cell_type": "code",
   "execution_count": 15,
   "id": "4b617e85",
   "metadata": {},
   "outputs": [
    {
     "data": {
      "image/png": "[encoded data removed]",
      "text/plain": [
       "<Figure size 432x288 with 1 Axes>"
      ]
     },
     "metadata": {
      "needs_background": "light"
     },
     "output_type": "display_data"
    }
   ],
   "source": [
    "# 12th Querie\n",
    "# Making a bar chat to find a possible relation between age and hypertention\n",
    "df['age'] = df['age'].astype(int)\n",
    "hypertension_ages = df[df['hypertension'] == 1]['age']\n",
    "age_intervals = range(df['age'].min(), df['age'].max() + 6, 5)\n",
    "plt.hist(hypertension_ages, bins=age_intervals)\n",
    "plt.xlabel('Age')\n",
    "plt.ylabel('Frequency')\n",
    "plt.title('Histogram of people with Hypertension')\n",
    "plt.xticks(age_intervals)\n",
    "plt.show()"
   ]
  },
  {
   "cell_type": "code",
   "execution_count": 16,
   "id": "18b15858",
   "metadata": {},
   "outputs": [
    {
     "name": "stdout",
     "output_type": "stream",
     "text": [
      " PEOPLE WITH HYPERTENSION AND DIABETES :  2088\n",
      " PEOPLE WITH DIABETES BUT NO HYPERTENSION:  6412\n"
     ]
    }
   ],
   "source": [
    "# 13th Querie\n",
    "# counting number of people with diabetes and hypertension \n",
    "diabetic_hypertension=len(df[(df['hypertension'] == 1) & (df['diabetes'] == 1)])\n",
    "diabetic_non_hypertension=len(df[(df['hypertension'] == 0) & (df['diabetes'] == 1)])\n",
    "\n",
    "print(\" PEOPLE WITH HYPERTENSION AND DIABETES : \", diabetic_hypertension)\n",
    "print(\" PEOPLE WITH DIABETES BUT NO HYPERTENSION: \", diabetic_non_hypertension)\n"
   ]
  },
  {
   "cell_type": "code",
   "execution_count": 17,
   "id": "39df85ab",
   "metadata": {},
   "outputs": [
    {
     "name": "stdout",
     "output_type": "stream",
     "text": [
      "    gender  age  hypertension  heart_disease smoking_history    bmi  \\\n",
      "6   Female   44             0              0           never  19.31   \n",
      "26    Male   67             0              1     not current  27.32   \n",
      "38    Male   50             1              0         current  27.32   \n",
      "40    Male   73             0              0          former  25.91   \n",
      "53  Female   53             0              0          former  27.32   \n",
      "\n",
      "    HbA1c_level  blood_glucose_level  diabetes  \n",
      "6             6                  200         1  \n",
      "26            6                  200         1  \n",
      "38            5                  260         1  \n",
      "40            9                  160         1  \n",
      "53            7                  159         1  \n"
     ]
    }
   ],
   "source": [
    "# 14th querie\n",
    "# filtering based on conditions for diabetic people like age>40\n",
    "\n",
    "filtered_diabetic = df[(df['diabetes'] == 1) & (df['age'] > 40)]\n",
    "print(filtered_diabetic.head())"
   ]
  },
  {
   "cell_type": "code",
   "execution_count": 18,
   "id": "e73f4dc3",
   "metadata": {},
   "outputs": [
    {
     "name": "stdout",
     "output_type": "stream",
     "text": [
      "    gender  age  hypertension  heart_disease smoking_history    bmi  \\\n",
      "26    Male   67             0              1     not current  27.32   \n",
      "38    Male   50             1              0         current  27.32   \n",
      "40    Male   73             0              0          former  25.91   \n",
      "53  Female   53             0              0          former  27.32   \n",
      "55    Male   50             0              0          former  37.16   \n",
      "\n",
      "    HbA1c_level  blood_glucose_level  diabetes  \n",
      "26            6                  200         1  \n",
      "38            5                  260         1  \n",
      "40            9                  160         1  \n",
      "53            7                  159         1  \n",
      "55            9                  159         1  \n"
     ]
    }
   ],
   "source": [
    "# 15th querie\n",
    "# filtering based on conditions for diabetic people like bmi>20\n",
    "\n",
    "filtered_diabetic_bmi = df[(df['diabetes'] == 1) & (df['bmi'] > 20)]\n",
    "print(filtered_diabetic_bmi.head())"
   ]
  },
  {
   "cell_type": "code",
   "execution_count": 19,
   "id": "08e91b33",
   "metadata": {},
   "outputs": [
    {
     "name": "stdout",
     "output_type": "stream",
     "text": [
      "Mean age of people with diabetes: 60.95\n",
      "Variance of ages of people with diabetes: 211.7\n",
      "Standard Deviation of ages of people with diabetes: 14.55\n"
     ]
    }
   ],
   "source": [
    "# 16th querie\n",
    "# finding statistics of people with diabetes\n",
    "# Like mean, variance and standard deviation of age of people with diabetes\n",
    "\n",
    "mean_value_age = df[(df['diabetes'] == 1)]['age'].mean()\n",
    "variance_value_age =df[(df['diabetes'] == 1)]['age'].var()\n",
    "std_dev_value_age = df[(df['diabetes'] == 1)]['age'].std()\n",
    "\n",
    "print(\"Mean age of people with diabetes:\", round(mean_value_age,2))\n",
    "print(\"Variance of ages of people with diabetes:\", round(variance_value_age,2))\n",
    "print(\"Standard Deviation of ages of people with diabetes:\", round(std_dev_value_age,2))"
   ]
  },
  {
   "cell_type": "code",
   "execution_count": 20,
   "id": "56e390c4",
   "metadata": {},
   "outputs": [
    {
     "name": "stdout",
     "output_type": "stream",
     "text": [
      "Mean BMI of people with diabetes: 31.99\n",
      "Variance of BMI of people with diabetes: 57.13\n",
      "Standard Deviation of BMI of people with diabetes: 7.56\n"
     ]
    }
   ],
   "source": [
    "# 17th querie\n",
    "# finding statistics of people with diabetes\n",
    "# Like mean, variance and standard deviation of BMI of people with diabetes\n",
    "\n",
    "mean_value_age = df[(df['diabetes'] == 1)]['bmi'].mean()\n",
    "variance_value_age =df[(df['diabetes'] == 1)]['bmi'].var()\n",
    "std_dev_value_age = df[(df['diabetes'] == 1)]['bmi'].std()\n",
    "\n",
    "print(\"Mean BMI of people with diabetes:\", round(mean_value_age,2))\n",
    "print(\"Variance of BMI of people with diabetes:\", round(variance_value_age,2))\n",
    "print(\"Standard Deviation of BMI of people with diabetes:\", round(std_dev_value_age,2))"
   ]
  },
  {
   "cell_type": "code",
   "execution_count": 21,
   "id": "9e61c918",
   "metadata": {},
   "outputs": [
    {
     "name": "stdout",
     "output_type": "stream",
     "text": [
      "                     HbA1c_level  blood_glucose_level\n",
      "HbA1c_level             1.000000            -0.006234\n",
      "blood_glucose_level    -0.006234             1.000000\n"
     ]
    }
   ],
   "source": [
    "# 18th Querie \n",
    "# Finding correlation between HbA1c_level and blood_gulcose_level of diabetic people in sample\n",
    "\n",
    "correlation = df[df['diabetes'] == 1][['HbA1c_level', 'blood_glucose_level']].corr()\n",
    "print(correlation)"
   ]
  },
  {
   "cell_type": "code",
   "execution_count": 22,
   "id": "8bf913a1",
   "metadata": {},
   "outputs": [
    {
     "name": "stdout",
     "output_type": "stream",
     "text": [
      "               heart_disease  diabetes\n",
      "heart_disease       1.000000  0.171727\n",
      "diabetes            0.171727  1.000000\n"
     ]
    }
   ],
   "source": [
    "# 19th Querie \n",
    "# Finding correlation between heart disease and diabetes of diabetic people in sample\n",
    "\n",
    "correlation_matrix = df[['heart_disease', 'diabetes']].corr()\n",
    "print(correlation_matrix)"
   ]
  },
  {
   "cell_type": "code",
   "execution_count": 23,
   "id": "99210a3f",
   "metadata": {},
   "outputs": [
    {
     "data": {
      "image/png": "[encoded data removed]",
      "text/plain": [
       "<Figure size 432x288 with 1 Axes>"
      ]
     },
     "metadata": {
      "needs_background": "light"
     },
     "output_type": "display_data"
    }
   ],
   "source": [
    "# 20th querie \n",
    "# Making a bar chat to find a possible relation between age and Heart Disease\n",
    "df['age'] = df['age'].astype(int)\n",
    "diabetic_ages = df[df['heart_disease'] == 1]['age']\n",
    "age_intervals = range(df['age'].min(), df['age'].max() + 6, 5)\n",
    "plt.hist(diabetic_ages, bins=age_intervals)\n",
    "plt.xlabel('Age')\n",
    "plt.ylabel('Frequency')\n",
    "plt.title('age v/s Heart disease')\n",
    "plt.xticks(age_intervals)\n",
    "plt.show()"
   ]
  },
  {
   "cell_type": "code",
   "execution_count": 24,
   "id": "77e625ea",
   "metadata": {},
   "outputs": [
    {
     "data": {
      "image/png": "[encoded data removed]",
      "text/plain": [
       "<Figure size 864x432 with 1 Axes>"
      ]
     },
     "metadata": {
      "needs_background": "light"
     },
     "output_type": "display_data"
    }
   ],
   "source": [
    "# 21st Querie \n",
    "# using regression to find possible relation between bmi and blood glucose level\n",
    "subset_df = df.sample(n=1000, random_state=25)\n",
    "slope, intercept, r_value, p_value, std_err = stats.linregress(subset_df['bmi'], subset_df['blood_glucose_level'])\n",
    "plt.figure(figsize=(12, 6))\n",
    "plt.scatter(subset_df['bmi'], subset_df['blood_glucose_level'], color='blue', label='Data Points',s=1)\n",
    "plt.plot(subset_df['bmi'], intercept + slope * subset_df['bmi'], color='red', label='Regression Line')\n",
    "plt.xlabel('bmi')\n",
    "plt.ylabel('blood glucose level')\n",
    "plt.title('Linear Regression')\n",
    "plt.legend()\n",
    "plt.show()"
   ]
  },
  {
   "cell_type": "code",
   "execution_count": 25,
   "id": "220dcfc0",
   "metadata": {},
   "outputs": [
    {
     "data": {
      "image/png": "[encoded data removed]",
      "text/plain": [
       "<Figure size 864x432 with 1 Axes>"
      ]
     },
     "metadata": {
      "needs_background": "light"
     },
     "output_type": "display_data"
    }
   ],
   "source": [
    "# 22nd Querie \n",
    "# using regression to find possible relation between HbA1c level and blood glucose level\n",
    "subset_df = df.sample(n=5000, random_state=25)\n",
    "slope, intercept, r_value, p_value, std_err = stats.linregress(subset_df['HbA1c_level'], subset_df['blood_glucose_level'])\n",
    "plt.figure(figsize=(12, 6))\n",
    "plt.scatter(subset_df['HbA1c_level'], subset_df['blood_glucose_level'], color='blue', label='Data Points',s=1)\n",
    "plt.plot(subset_df['HbA1c_level'], intercept + slope * subset_df['HbA1c_level'], color='red', label='Regression Line')\n",
    "plt.xlabel('HbA1c_level')\n",
    "plt.ylabel('blood glucose level')\n",
    "plt.title('Linear Regression')\n",
    "plt.legend()\n",
    "plt.show()"
   ]
  },
  {
   "cell_type": "code",
   "execution_count": 26,
   "id": "5daff19d",
   "metadata": {},
   "outputs": [
    {
     "data": {
      "image/png": "[encoded data removed]",
      "text/plain": [
       "<Figure size 1008x360 with 2 Axes>"
      ]
     },
     "metadata": {
      "needs_background": "light"
     },
     "output_type": "display_data"
    }
   ],
   "source": [
    "# 23rd QUerie\n",
    "# Making Bar char to evaluate differences in smoking history between males and females\n",
    "\n",
    "fig, axs = plt.subplots(1, 2, figsize=(14, 5))\n",
    "x=df[df['gender']=='Male']['smoking_history'].value_counts()['current']\n",
    "y=df[df['gender']=='Male']['smoking_history'].value_counts()['never']\n",
    "z=df[df['gender']=='Male']['smoking_history'].value_counts()['former']\n",
    "dic1={'Category':['smokers','Non smokers', 'former smokers'],'value':[x,y,z]}\n",
    "secdf = pd.DataFrame(dic1)\n",
    "axs[0].bar(secdf['Category'],secdf['value'])\n",
    "axs[0].set_xlabel('Category')\n",
    "axs[0].set_ylabel('Value')\n",
    "axs[0].set_title('males smoking history')\n",
    "\n",
    "p=df[df['gender']=='Female']['smoking_history'].value_counts()['current']\n",
    "q=df[df['gender']=='Female']['smoking_history'].value_counts()['never']\n",
    "r=df[df['gender']=='Female']['smoking_history'].value_counts()['former']\n",
    "dic2={'Category':['smokers','Non smokers', 'former smokers'],'value':[p,q,r]}\n",
    "thirdf = pd.DataFrame(dic2)\n",
    "axs[1].bar(thirdf['Category'],thirdf['value'])\n",
    "axs[1].set_xlabel('Category')\n",
    "axs[1].set_ylabel('Value')\n",
    "axs[1].set_title('females smoking history')\n",
    "\n",
    "plt.show()"
   ]
  },
  {
   "cell_type": "code",
   "execution_count": 27,
   "id": "45e326e7",
   "metadata": {},
   "outputs": [
    {
     "name": "stdout",
     "output_type": "stream",
     "text": [
      "               heart_disease  hypertension\n",
      "heart_disease       1.000000      0.121262\n",
      "hypertension        0.121262      1.000000\n"
     ]
    }
   ],
   "source": [
    "# 24th Querie \n",
    "# Finding correlation between heart disease and hypertension of diabetic people in sample\n",
    "\n",
    "correlation_matrix = df[['heart_disease', 'hypertension']].corr()\n",
    "print(correlation_matrix)"
   ]
  },
  {
   "cell_type": "code",
   "execution_count": 28,
   "id": "6585f264",
   "metadata": {},
   "outputs": [
    {
     "name": "stdout",
     "output_type": "stream",
     "text": [
      "                     hypertension  blood_glucose_level\n",
      "hypertension             1.000000             0.084429\n",
      "blood_glucose_level      0.084429             1.000000\n"
     ]
    }
   ],
   "source": [
    "# 25th Querie \n",
    "# Finding correlation between hypertension and blood glucose level of diabetic people in sample\n",
    "\n",
    "correlation_matrix = df[['hypertension', 'blood_glucose_level']].corr()\n",
    "print(correlation_matrix)"
   ]
  },
  {
   "cell_type": "code",
   "execution_count": 29,
   "id": "c738a3db",
   "metadata": {},
   "outputs": [
    {
     "name": "stdout",
     "output_type": "stream",
     "text": [
      "Mean blood glucose level of people with diabetes: 194.09\n",
      "Variance of blood glucose level of people with diabetes: 3438.78\n",
      "Standard Deviation of blood glucose level of people with diabetes: 58.64\n"
     ]
    }
   ],
   "source": [
    "# 26th querie\n",
    "# finding statistics of people with diabetes\n",
    "# Like mean, variance and standard deviation of blood glucose level of people with diabetes\n",
    "\n",
    "mean_value_age = df[(df['diabetes'] == 1)]['blood_glucose_level'].mean()\n",
    "variance_value_age =df[(df['diabetes'] == 1)]['blood_glucose_level'].var()\n",
    "std_dev_value_age = df[(df['diabetes'] == 1)]['blood_glucose_level'].std()\n",
    "\n",
    "print(\"Mean blood glucose level of people with diabetes:\", round(mean_value_age,2))\n",
    "print(\"Variance of blood glucose level of people with diabetes:\", round(variance_value_age,2))\n",
    "print(\"Standard Deviation of blood glucose level of people with diabetes:\", round(std_dev_value_age,2))"
   ]
  },
  {
   "cell_type": "code",
   "execution_count": 30,
   "id": "4dc4c6a4",
   "metadata": {},
   "outputs": [
    {
     "name": "stdout",
     "output_type": "stream",
     "text": [
      "Mean HbA1c level of people with diabetes: 6.53\n",
      "Variance of HbA1c level of people with diabetes: 1.34\n",
      "Standard Deviation of HbA1c level of people with diabetes: 1.16\n"
     ]
    }
   ],
   "source": [
    "# 27th querie\n",
    "# finding statistics of people with diabetes\n",
    "# Like mean, variance and standard deviation of HbA1c level of people with diabetes\n",
    "\n",
    "mean_value_age = df[(df['diabetes'] == 1)]['HbA1c_level'].mean()\n",
    "variance_value_age =df[(df['diabetes'] == 1)]['HbA1c_level'].var()\n",
    "std_dev_value_age = df[(df['diabetes'] == 1)]['HbA1c_level'].std()\n",
    "\n",
    "print(\"Mean HbA1c level of people with diabetes:\", round(mean_value_age,2))\n",
    "print(\"Variance of HbA1c level of people with diabetes:\", round(variance_value_age,2))\n",
    "print(\"Standard Deviation of HbA1c level of people with diabetes:\", round(std_dev_value_age,2))"
   ]
  },
  {
   "cell_type": "code",
   "execution_count": 31,
   "id": "de7b3674",
   "metadata": {},
   "outputs": [
    {
     "name": "stdout",
     "output_type": "stream",
     "text": [
      "   gender  age  hypertension  heart_disease smoking_history    bmi  \\\n",
      "0  Female   80             0              1           never  25.19   \n",
      "1  Female   54             0              0         No Info  27.32   \n",
      "3  Female   36             0              0         current  23.45   \n",
      "4    Male   76             1              1         current  20.14   \n",
      "6  Female   44             0              0           never  19.31   \n",
      "\n",
      "   HbA1c_level  blood_glucose_level  diabetes  \n",
      "0            6                  140         0  \n",
      "1            6                   80         0  \n",
      "3            5                  155         0  \n",
      "4            4                  155         0  \n",
      "6            6                  200         1  \n",
      "---------------------------------------------------------------------------------\n",
      "       gender  age  hypertension  heart_disease smoking_history    bmi  \\\n",
      "99993  Female   40             0              0           never  40.69   \n",
      "99994  Female   36             0              0         No Info  24.60   \n",
      "99995  Female   80             0              0         No Info  27.32   \n",
      "99997    Male   66             0              0          former  27.83   \n",
      "99999  Female   57             0              0         current  22.43   \n",
      "\n",
      "       HbA1c_level  blood_glucose_level  diabetes  \n",
      "99993            3                  155         0  \n",
      "99994            4                  145         0  \n",
      "99995            6                   90         0  \n",
      "99997            5                  155         0  \n",
      "99999            6                   90         0  \n"
     ]
    }
   ],
   "source": [
    "#28th Querie \n",
    "# filtering the dataframe as per the age\n",
    "\n",
    "pdf=df[df['age']>30]\n",
    "print(pdf.head())\n",
    "print(\"---------------------------------------------------------------------------------\")\n",
    "print(pdf.tail())"
   ]
  },
  {
   "cell_type": "code",
   "execution_count": 32,
   "id": "019c992f",
   "metadata": {},
   "outputs": [
    {
     "name": "stdout",
     "output_type": "stream",
     "text": [
      "    gender  age  hypertension  heart_disease smoking_history    bmi  \\\n",
      "3   Female   36             0              0         current  23.45   \n",
      "4     Male   76             1              1         current  20.14   \n",
      "6   Female   44             0              0           never  19.31   \n",
      "7   Female   79             0              0         No Info  23.86   \n",
      "21    Male    5             0              0         No Info  18.80   \n",
      "\n",
      "    HbA1c_level  blood_glucose_level  diabetes  \n",
      "3             5                  155         0  \n",
      "4             4                  155         0  \n",
      "6             6                  200         1  \n",
      "7             5                   85         0  \n",
      "21            6                   85         0  \n",
      "---------------------------------------------------------------------------------\n",
      "       gender  age  hypertension  heart_disease smoking_history    bmi  \\\n",
      "99978    Male   14             0              0           never  23.67   \n",
      "99984    Male   80             1              0         No Info  20.96   \n",
      "99987  Female   23             0              0           never  17.87   \n",
      "99996  Female    2             0              0         No Info  17.37   \n",
      "99999  Female   57             0              0         current  22.43   \n",
      "\n",
      "       HbA1c_level  blood_glucose_level  diabetes  \n",
      "99978            5                  145         0  \n",
      "99984            6                   85         0  \n",
      "99987            5                  100         0  \n",
      "99996            6                  100         0  \n",
      "99999            6                   90         0  \n"
     ]
    }
   ],
   "source": [
    "#29th Querie \n",
    "# filtering the dataframe as per the bmi\n",
    "\n",
    "ptdf=df[(df['bmi']>16) & (df['bmi']<24)]\n",
    "print(ptdf.head())\n",
    "print(\"---------------------------------------------------------------------------------\")\n",
    "print(ptdf.tail())"
   ]
  },
  {
   "cell_type": "code",
   "execution_count": 33,
   "id": "bcbd1e93",
   "metadata": {},
   "outputs": [
    {
     "name": "stdout",
     "output_type": "stream",
     "text": [
      "   gender  age  hypertension  heart_disease smoking_history    bmi  \\\n",
      "0  Female   80             0              1           never  25.19   \n",
      "2    Male   28             0              0           never  27.32   \n",
      "3  Female   36             0              0         current  23.45   \n",
      "4    Male   76             1              1         current  20.14   \n",
      "6  Female   44             0              0           never  19.31   \n",
      "\n",
      "   HbA1c_level  blood_glucose_level  diabetes  \n",
      "0            6                  140         0  \n",
      "2            5                  158         0  \n",
      "3            5                  155         0  \n",
      "4            4                  155         0  \n",
      "6            6                  200         1  \n",
      "---------------------------------------------------------------------------------\n",
      "       gender  age  hypertension  heart_disease smoking_history    bmi  \\\n",
      "99989  Female   26             0              0         No Info  27.32   \n",
      "99992  Female   26             0              0           never  34.34   \n",
      "99993  Female   40             0              0           never  40.69   \n",
      "99994  Female   36             0              0         No Info  24.60   \n",
      "99997    Male   66             0              0          former  27.83   \n",
      "\n",
      "       HbA1c_level  blood_glucose_level  diabetes  \n",
      "99989            5                  158         0  \n",
      "99992            6                  160         0  \n",
      "99993            3                  155         0  \n",
      "99994            4                  145         0  \n",
      "99997            5                  155         0  \n"
     ]
    }
   ],
   "source": [
    "#28th Querie \n",
    "# filtering the dataframe as per the blood glucose level\n",
    "\n",
    "pmdf=df[df['blood_glucose_level']>120]\n",
    "print(pmdf.head())\n",
    "print(\"---------------------------------------------------------------------------------\")\n",
    "print(pmdf.tail())"
   ]
  },
  {
   "cell_type": "code",
   "execution_count": null,
   "id": "ca3b460f",
   "metadata": {},
   "outputs": [],
   "source": [
    "'''\n",
    "CONCLUSION: \n",
    "\n",
    "In conclusion, our comprehensive analysis highlights the intricate relationship between diabetes and various factors,\n",
    "including gender, age, BMI, blood glucose level, and smoking history. We have observed that gender differences exist \n",
    "in the prevalence and impact of diabetes, with both biological and socio-cultural factors playing a role. Age emerges \n",
    "as a significant risk factor, as older individuals are more susceptible to developing diabetes. Additionally, high \n",
    "BMI and elevated blood glucose levels have consistently been associated with an increased risk of diabetes. \n",
    "\n",
    "Furthermore, the detrimental effects of smoking on overall health extend to diabetes, exacerbating its complications \n",
    "and progression. This report emphasizes the importance of considering these factors in diabetes prevention, diagnosis, \n",
    "and management, as targeted approaches tailored to individuals' characteristics can lead to more effective interventions \n",
    "and improved outcomes. By understanding and addressing these interconnected factors, we can strive towards a healthier \n",
    "future with reduced diabetes burden on individuals and society as a whole.\n",
    "\n",
    "'''"
   ]
  },
  {
   "cell_type": "code",
   "execution_count": null,
   "id": "30685d7a",
   "metadata": {},
   "outputs": [],
   "source": []
  }
 ],
 "metadata": {
  "kernelspec": {
   "display_name": "Python 3 (ipykernel)",
   "language": "python",
   "name": "python3"
  },
  "language_info": {
   "codemirror_mode": {
    "name": "ipython",
    "version": 3
   },
   "file_extension": ".py",
   "mimetype": "text/x-python",
   "name": "python",
   "nbconvert_exporter": "python",
   "pygments_lexer": "ipython3",
   "version": "3.10.6"
  }
 },
 "nbformat": 4,
 "nbformat_minor": 5
}
